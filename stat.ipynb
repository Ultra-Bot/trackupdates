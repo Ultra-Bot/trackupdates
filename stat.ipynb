{
 "cells": [
  {
   "cell_type": "code",
   "execution_count": null,
   "metadata": {
    "collapsed": false,
    "scrolled": false
   },
   "outputs": [],
   "source": [
    "import pandas as pd\n",
    "import sqlite3, plotly\n",
    "import plotly.offline as py\n",
    "import plotly.graph_objs as go\n",
    "plotly.offline.init_notebook_mode() # run at the start of every notebook\n",
    "conn = sqlite3.connect(\"itra.sqlite\")\n",
    "\n",
    "def getData(table):\n",
    "    return pd.read_sql_query(\"select * from `%s`;\" % table, conn)\n",
    "\n",
    "df = getData('python')\n",
    "\n",
    "def iplot(chart):\n",
    "    py.iplot(chart)\n",
    "\n",
    "def simpleLabel(labels, values):\n",
    "    if len(labels) < 20:\n",
    "        return labels, values\n",
    "    total = sum(values)\n",
    "    nlabels, nvalues = [], []\n",
    "    other = 0\n",
    "    for l, v in zip(labels, values):\n",
    "        if 1.0 * v / total < 0.01:\n",
    "            other += v\n",
    "            continue\n",
    "        nlabels.append(l)\n",
    "        nvalues.append(v)\n",
    "    nlabels.append('Other')\n",
    "    nvalues.append(other)\n",
    "    return nlabels, nvalues\n",
    "    \n",
    "def pieChart(title, df, column, gby=None):\n",
    "    if gby is None:\n",
    "        gby = column\n",
    "    df = df.groupby(gby).count()['id'].reset_index()\n",
    "    labels = [c if c else 'Lack of Label' for c in df[column].tolist()]\n",
    "    values = df['id'].tolist()\n",
    "    labels, values = simpleLabel(labels, values)\n",
    "    return go.Pie(labels=labels, values=values, title=title, titlefont=dict(size=18))\n",
    "\n",
    "iplot([pieChart('Github Trending Repo Lang Dist', df, 'lang')])\n",
    "\n",
    "golden = getData('golden-price')\n",
    "data = [go.Scatter(x=golden['_crawl_time'], y=golden['shamp'])]\n",
    "layout = go.Layout(title='Golden Price Curve')\n",
    "fig = go.Figure(data=data, layout=layout)\n",
    "iplot(fig)\n",
    "\n",
    "df = getData('jianshu')\n",
    "iplot([pieChart('JianShu Tag Dist', df, 'tag')])\n",
    "\n",
    "ranges = [-1,100,1000,10000,100000]\n",
    "iplot([pieChart('JianShu Reads Range Percentage', df, 'reads', pd.cut(pd.to_numeric(df['reads']), ranges).astype(str))])"
   ]
  }
 ],
 "metadata": {
  "kernelspec": {
   "display_name": "Python 2",
   "language": "python",
   "name": "python2"
  },
  "language_info": {
   "codemirror_mode": {
    "name": "ipython",
    "version": 2
   },
   "file_extension": ".py",
   "mimetype": "text/x-python",
   "name": "python",
   "nbconvert_exporter": "python",
   "pygments_lexer": "ipython2",
   "version": "2.7.14"
  }
 },
 "nbformat": 4,
 "nbformat_minor": 0
}
